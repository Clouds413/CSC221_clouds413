{
  "nbformat": 4,
  "nbformat_minor": 0,
  "metadata": {
    "colab": {
      "provenance": [],
      "authorship_tag": "ABX9TyO4nEagRi5QXmidEQ9Ww6fI",
      "include_colab_link": true
    },
    "kernelspec": {
      "name": "python3",
      "display_name": "Python 3"
    },
    "language_info": {
      "name": "python"
    }
  },
  "cells": [
    {
      "cell_type": "markdown",
      "metadata": {
        "id": "view-in-github",
        "colab_type": "text"
      },
      "source": [
        "<a href=\"https://colab.research.google.com/github/Clouds413/CSC221_clouds413/blob/main/Chapter4.ipynb\" target=\"_parent\"><img src=\"https://colab.research.google.com/assets/colab-badge.svg\" alt=\"Open In Colab\"/></a>"
      ]
    },
    {
      "cell_type": "code",
      "execution_count": 5,
      "metadata": {
        "colab": {
          "base_uri": "https://localhost:8080/"
        },
        "id": "yMcX45MAesz4",
        "outputId": "3d06d350-f181-49e8-e315-81c3fa0d2c6f"
      },
      "outputs": [
        {
          "output_type": "stream",
          "name": "stdout",
          "text": [
            "I like Pepperoni pizza.\n",
            "I like Triple Cheese pizza.\n",
            "I like Jalapeño-Pineapple pizza.\n",
            "I like Bbq Meatlovers pizza.\n"
          ]
        }
      ],
      "source": [
        "#4 - 1 \"Try It Yourself\" - Pizzas\n",
        "pizzas = ['pepperoni' , 'triple cheese' , 'jalapeño-pineapple' , 'bbq meatlovers']\n",
        "for pizza in pizzas:\n",
        "  print(f\"I like {pizza.title()} pizza.\")"
      ]
    }
  ]
}