{
  "nbformat": 4,
  "nbformat_minor": 0,
  "metadata": {
    "colab": {
      "provenance": [],
      "authorship_tag": "ABX9TyOf7NpS3mLDtjQElinFJTJS",
      "include_colab_link": true
    },
    "kernelspec": {
      "name": "python3",
      "display_name": "Python 3"
    },
    "language_info": {
      "name": "python"
    }
  },
  "cells": [
    {
      "cell_type": "markdown",
      "metadata": {
        "id": "view-in-github",
        "colab_type": "text"
      },
      "source": [
        "<a href=\"https://colab.research.google.com/github/Clouds413/CSC221_clouds413/blob/main/Chapter5.ipynb\" target=\"_parent\"><img src=\"https://colab.research.google.com/assets/colab-badge.svg\" alt=\"Open In Colab\"/></a>"
      ]
    },
    {
      "cell_type": "code",
      "execution_count": 9,
      "metadata": {
        "colab": {
          "base_uri": "https://localhost:8080/"
        },
        "id": "E95OaqUZzhw3",
        "outputId": "05f3de23-91b6-403f-f2ef-a0a46286c486"
      },
      "outputs": [
        {
          "output_type": "stream",
          "name": "stdout",
          "text": [
            "Is flower == 'peony'? I predict True.\n",
            "True\n",
            "\n",
            "Is flower == 'Iris'? I predict False.\n",
            "False\n",
            "\n",
            "Is animal == 'deer'? I predict True.\n",
            "True\n",
            "\n",
            "Is animal == 'mittens'? I predict False.\n",
            "False\n",
            "\n",
            "Is aquatic_fauna == 'starfish'? I predict True.\n",
            "True\n",
            "\n",
            "Is aquatic_fauna == 'kelp'? I predict False.\n",
            "False\n",
            "\n",
            "Is this Gem == 'ruby'? I predict True.\n",
            "True\n",
            "\n",
            "Is this Gem == 'sandstone'? I predict False.\n",
            "False\n",
            "\n",
            "Is book == 'Python Crash Course'?\n",
            "True\n",
            "\n",
            "Is book == 'NYTimes'? I predict False\n",
            "False\n"
          ]
        }
      ],
      "source": [
        "#5 - 1 Conditional Tests\n",
        "#1\n",
        "flower = 'peony'\n",
        "print(\"Is flower == 'peony'? I predict True.\")\n",
        "print (flower == 'peony')\n",
        "\n",
        "print(\"\\nIs flower == 'Iris'? I predict False.\")\n",
        "print (flower == 'Iris')\n",
        "\n",
        "#2\n",
        "animal = 'deer'\n",
        "print(\"\\nIs animal == 'deer'? I predict True.\")\n",
        "print (animal == 'deer')\n",
        "\n",
        "print(\"\\nIs animal == 'mittens'? I predict False.\")\n",
        "print (animal == 'mittens')\n",
        "\n",
        "#3\n",
        "aquatic_fauna = 'starfish'\n",
        "print(\"\\nIs aquatic_fauna == 'starfish'? I predict True.\")\n",
        "print(aquatic_fauna == 'starfish')\n",
        "\n",
        "print(\"\\nIs aquatic_fauna == 'kelp'? I predict False.\")\n",
        "print(aquatic_fauna == 'kelp')\n",
        "\n",
        "#4\n",
        "gem = 'ruby'\n",
        "print(\"\\nIs this Gem == 'ruby'? I predict True.\")\n",
        "print(gem == 'ruby')\n",
        "\n",
        "print(\"\\nIs this Gem == 'sandstone'? I predict False.\")\n",
        "print(gem == 'sandstone')\n",
        "\n",
        "#5\n",
        "book = 'Python Crash Course'\n",
        "print(\"\\nIs book == 'Python Crash Course'?\")\n",
        "print(book == 'Python Crash Course')\n",
        "\n",
        "print(\"\\nIs book == 'NYTimes'? I predict False\")\n",
        "print(book == 'NYTimes')\n",
        "\n",
        "\n",
        "\n",
        "\n",
        "\n"
      ]
    },
    {
      "cell_type": "code",
      "source": [
        "#5 - 2 More Conditional Tests\n",
        "\n"
      ],
      "metadata": {
        "id": "9PgaEbhYuG0P"
      },
      "execution_count": null,
      "outputs": []
    }
  ]
}