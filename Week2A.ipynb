{
  "nbformat": 4,
  "nbformat_minor": 0,
  "metadata": {
    "colab": {
      "provenance": [],
      "toc_visible": true,
      "authorship_tag": "ABX9TyObNQQZuYlEFdOFI7hmCAHz",
      "include_colab_link": true
    },
    "kernelspec": {
      "name": "python3",
      "display_name": "Python 3"
    },
    "language_info": {
      "name": "python"
    }
  },
  "cells": [
    {
      "cell_type": "markdown",
      "metadata": {
        "id": "view-in-github",
        "colab_type": "text"
      },
      "source": [
        "<a href=\"https://colab.research.google.com/github/Clouds413/CSC221_clouds413/blob/main/Week2A.ipynb\" target=\"_parent\"><img src=\"https://colab.research.google.com/assets/colab-badge.svg\" alt=\"Open In Colab\"/></a>"
      ]
    },
    {
      "cell_type": "code",
      "execution_count": null,
      "metadata": {
        "colab": {
          "base_uri": "https://localhost:8080/"
        },
        "id": "6YXn08K8Gd-D",
        "outputId": "4103c6ec-5fbe-4625-ecb8-e19d9c52d4b6"
      },
      "outputs": [
        {
          "output_type": "stream",
          "name": "stdout",
          "text": [
            "Hello Python interpreter!\n"
          ]
        }
      ],
      "source": [
        ">>> print(\"Hello Python interpreter!\")\n",
        "\n",
        "\n"
      ]
    },
    {
      "cell_type": "markdown",
      "source": [
        "# New Section"
      ],
      "metadata": {
        "id": "9OUJAnDqSUt_"
      }
    },
    {
      "cell_type": "markdown",
      "source": [
        "$ python3\n",
        "\n",
        "\n"
      ],
      "metadata": {
        "id": "EIe5EVtcJBIp"
      }
    },
    {
      "cell_type": "code",
      "source": [
        "print(\"Hello Python World\")\n"
      ],
      "metadata": {
        "colab": {
          "base_uri": "https://localhost:8080/"
        },
        "id": "eNXa41GbKtqe",
        "outputId": "e5a72107-0127-4549-9b00-e4328b080db6"
      },
      "execution_count": null,
      "outputs": [
        {
          "output_type": "stream",
          "name": "stdout",
          "text": [
            "Hello Python World\n"
          ]
        }
      ]
    },
    {
      "cell_type": "code",
      "source": [
        "print(4+7)"
      ],
      "metadata": {
        "colab": {
          "base_uri": "https://localhost:8080/"
        },
        "id": "5VCi8aIQLSA8",
        "outputId": "541138b8-02e4-48dc-e0b3-c8886807e18b"
      },
      "execution_count": null,
      "outputs": [
        {
          "output_type": "stream",
          "name": "stdout",
          "text": [
            "11\n"
          ]
        }
      ]
    },
    {
      "cell_type": "code",
      "source": [
        "print(\"Hello, Python world\")\n"
      ],
      "metadata": {
        "colab": {
          "base_uri": "https://localhost:8080/"
        },
        "id": "e8abjwRgNBqz",
        "outputId": "88756671-013f-4240-dfa9-86a3cb2f5840"
      },
      "execution_count": 7,
      "outputs": [
        {
          "output_type": "stream",
          "name": "stdout",
          "text": [
            "Hello, Python world\n"
          ]
        }
      ]
    },
    {
      "cell_type": "code",
      "source": [
        "message = \"Hello Python world\"\n",
        "print(message)\n",
        "\n",
        "message = \"Hello Python Crash course world!\"\n",
        "print(message)\n",
        "\n",
        "\n"
      ],
      "metadata": {
        "colab": {
          "base_uri": "https://localhost:8080/"
        },
        "id": "HAfIIdaIOJz_",
        "outputId": "2f7fcba0-d66b-490a-9742-b1de1dd2d4b2"
      },
      "execution_count": null,
      "outputs": [
        {
          "output_type": "stream",
          "name": "stdout",
          "text": [
            "Hello Python world\n",
            "Hello Python Crash course world!\n"
          ]
        }
      ]
    },
    {
      "cell_type": "code",
      "source": [
        "name = \"ada lovelace\"\n",
        "print(name.title())\n"
      ],
      "metadata": {
        "colab": {
          "base_uri": "https://localhost:8080/"
        },
        "id": "VM7rtWQSOXAQ",
        "outputId": "131e250a-4cf9-4f3e-c22a-e15fcf517f51"
      },
      "execution_count": null,
      "outputs": [
        {
          "output_type": "stream",
          "name": "stdout",
          "text": [
            "Ada Lovelace\n"
          ]
        }
      ]
    },
    {
      "cell_type": "code",
      "source": [
        "name = \"Ada Lovelace\"\n",
        "print(name.upper())\n",
        "print(name.lower())\n"
      ],
      "metadata": {
        "colab": {
          "base_uri": "https://localhost:8080/"
        },
        "id": "PdeYzktvPb7A",
        "outputId": "f8b5e489-c5ef-4e9b-d70f-f56ead2b2023"
      },
      "execution_count": null,
      "outputs": [
        {
          "output_type": "stream",
          "name": "stdout",
          "text": [
            "ADA LOVELACE\n",
            "ada lovelace\n"
          ]
        }
      ]
    },
    {
      "cell_type": "code",
      "source": [
        "first_name = \"ada\"\n",
        "last_name = \"lovelace\"\n",
        "full_name = f\"{first_name} {last_name}\"\n",
        "print(full_name)\n",
        "print(f\"Hello, {full_name.title()}!\")\n",
        "message = f\"Hello, {full_name.title()}!\"\n",
        "print(message)\n"
      ],
      "metadata": {
        "colab": {
          "base_uri": "https://localhost:8080/"
        },
        "id": "N0R6xRKkPsXH",
        "outputId": "cc27af31-f424-40fe-d844-e05ed6785d02"
      },
      "execution_count": null,
      "outputs": [
        {
          "output_type": "stream",
          "name": "stdout",
          "text": [
            "ada lovelace\n",
            "Hello, Ada Lovelace!\n",
            "Hello, Ada Lovelace!\n"
          ]
        }
      ]
    },
    {
      "cell_type": "code",
      "source": [
        "print(\"Python\")"
      ],
      "metadata": {
        "colab": {
          "base_uri": "https://localhost:8080/"
        },
        "id": "VW0gbcFNQT8-",
        "outputId": "7e0834c9-6e15-4dc5-c66c-e177fd64fcc2"
      },
      "execution_count": null,
      "outputs": [
        {
          "output_type": "stream",
          "name": "stdout",
          "text": [
            "Python\n"
          ]
        }
      ]
    },
    {
      "cell_type": "code",
      "source": [
        "print(\"\\tPython\")"
      ],
      "metadata": {
        "colab": {
          "base_uri": "https://localhost:8080/"
        },
        "id": "4wWHjtUqR24-",
        "outputId": "d0bf4d9d-3d4a-4d15-f6b4-d8c71403f831"
      },
      "execution_count": null,
      "outputs": [
        {
          "output_type": "stream",
          "name": "stdout",
          "text": [
            "\tPython\n"
          ]
        }
      ]
    },
    {
      "cell_type": "code",
      "source": [
        "print(\"Languages:\\nPython\\nC\\nJavaScript\")"
      ],
      "metadata": {
        "colab": {
          "base_uri": "https://localhost:8080/"
        },
        "id": "YYUoE8l0R89L",
        "outputId": "3e516f0f-27ea-407d-f7f9-825e4f6427a9"
      },
      "execution_count": null,
      "outputs": [
        {
          "output_type": "stream",
          "name": "stdout",
          "text": [
            "Languages:\n",
            "Python\n",
            "C\n",
            "JavaScript\n"
          ]
        }
      ]
    },
    {
      "cell_type": "code",
      "source": [
        "print(\"Languages:\\n\\tPython\\n\\tC\\n\\tJavaScript\")"
      ],
      "metadata": {
        "colab": {
          "base_uri": "https://localhost:8080/"
        },
        "id": "jRzKjC3hSJ4i",
        "outputId": "00199811-9d26-4a62-c282-aff3ccef5334"
      },
      "execution_count": null,
      "outputs": [
        {
          "output_type": "stream",
          "name": "stdout",
          "text": [
            "Languages:\n",
            "\tPython\n",
            "\tC\n",
            "\tJavaScript\n"
          ]
        }
      ]
    },
    {
      "cell_type": "code",
      "source": [
        "favorite_language = 'python '\n",
        "favorite_language"
      ],
      "metadata": {
        "id": "RpoHgamGS2ma",
        "colab": {
          "base_uri": "https://localhost:8080/",
          "height": 35
        },
        "outputId": "322577b5-4517-43b4-c544-997f670f138f"
      },
      "execution_count": null,
      "outputs": [
        {
          "output_type": "execute_result",
          "data": {
            "text/plain": [
              "'python '"
            ],
            "application/vnd.google.colaboratory.intrinsic+json": {
              "type": "string"
            }
          },
          "metadata": {},
          "execution_count": 6
        }
      ]
    },
    {
      "cell_type": "code",
      "source": [
        "favorite_language = 'python '\n",
        "favorite_language.rstrip()\n"
      ],
      "metadata": {
        "colab": {
          "base_uri": "https://localhost:8080/",
          "height": 35
        },
        "id": "yMSMxkrRWJw6",
        "outputId": "880d9cf7-67ce-4b9e-e6c6-9416cf25dfd4"
      },
      "execution_count": null,
      "outputs": [
        {
          "output_type": "execute_result",
          "data": {
            "text/plain": [
              "'python'"
            ],
            "application/vnd.google.colaboratory.intrinsic+json": {
              "type": "string"
            }
          },
          "metadata": {},
          "execution_count": 9
        }
      ]
    },
    {
      "cell_type": "code",
      "source": [
        "favorite_language = ' python '\n",
        "favorite_language.rstrip()\n",
        "favorite_language.lstrip()\n",
        "favorite_language.strip()\n"
      ],
      "metadata": {
        "colab": {
          "base_uri": "https://localhost:8080/",
          "height": 35
        },
        "id": "-KlPV_LpWkzl",
        "outputId": "b68dc0ba-b546-4001-8a8a-9ac023ce4e52"
      },
      "execution_count": null,
      "outputs": [
        {
          "output_type": "execute_result",
          "data": {
            "text/plain": [
              "'python'"
            ],
            "application/vnd.google.colaboratory.intrinsic+json": {
              "type": "string"
            }
          },
          "metadata": {},
          "execution_count": 13
        }
      ]
    },
    {
      "cell_type": "code",
      "source": [
        "nostarch_url = 'https://nostarch.com'\n",
        "nostarch_url.removeprefix('https://')\n"
      ],
      "metadata": {
        "colab": {
          "base_uri": "https://localhost:8080/",
          "height": 35
        },
        "id": "w8Emm9BkXQ29",
        "outputId": "a74093ad-99f1-4cab-d837-afb33d540001"
      },
      "execution_count": null,
      "outputs": [
        {
          "output_type": "execute_result",
          "data": {
            "text/plain": [
              "'nostarch.com'"
            ],
            "application/vnd.google.colaboratory.intrinsic+json": {
              "type": "string"
            }
          },
          "metadata": {},
          "execution_count": 14
        }
      ]
    },
    {
      "cell_type": "code",
      "source": [
        "message = \"Hello, Ned, will you teach me some Python today?\"\n",
        "print (message)\n"
      ],
      "metadata": {
        "colab": {
          "base_uri": "https://localhost:8080/"
        },
        "id": "VksPmPk1XvNO",
        "outputId": "a8e88c40-cab7-44bc-8ce6-3de520914b9d"
      },
      "execution_count": null,
      "outputs": [
        {
          "output_type": "stream",
          "name": "stdout",
          "text": [
            "Hello, Ned, will you teach me some Python today?\n"
          ]
        }
      ]
    },
    {
      "cell_type": "code",
      "source": [
        "name = \"eddard stark\"\n",
        "print(name.title())\n",
        "print(name.upper())\n",
        "print(name.lower())\n"
      ],
      "metadata": {
        "colab": {
          "base_uri": "https://localhost:8080/"
        },
        "id": "V1DkgTQvaJTu",
        "outputId": "3ea2b696-73e1-4088-d930-f24be0c64229"
      },
      "execution_count": null,
      "outputs": [
        {
          "output_type": "stream",
          "name": "stdout",
          "text": [
            "Eddard Stark\n",
            "EDDARD STARK\n",
            "eddard stark\n"
          ]
        }
      ]
    },
    {
      "cell_type": "code",
      "source": [
        "message = \"'The higher the fewer by Alexander Roshenko'\"\n",
        "print(message)"
      ],
      "metadata": {
        "colab": {
          "base_uri": "https://localhost:8080/"
        },
        "id": "rqmx74tWaZEr",
        "outputId": "b816be0f-45cf-4729-f04d-3ba9c6bf414c"
      },
      "execution_count": null,
      "outputs": [
        {
          "output_type": "stream",
          "name": "stdout",
          "text": [
            "'The higher the fewer by Alexander Roshenko'\n"
          ]
        }
      ]
    },
    {
      "cell_type": "code",
      "source": [
        "first_name = \"anony\"\n",
        "last_name = \"mouse\"\n",
        "full_name = f\"{first_name} {last_name}\"\n",
        "message = f\"{full_name.title()} 'An Ounce of Practice is Worth a Pound of Theory'\"\n",
        "print(message)\n"
      ],
      "metadata": {
        "colab": {
          "base_uri": "https://localhost:8080/"
        },
        "id": "UaSfVJqUbMwM",
        "outputId": "3ffaac0e-4cf6-49f0-ba55-c0c733250975"
      },
      "execution_count": null,
      "outputs": [
        {
          "output_type": "stream",
          "name": "stdout",
          "text": [
            "Anony Mouse 'An Ounce of Practice is Worth a Pound of Theory'\n"
          ]
        }
      ]
    },
    {
      "cell_type": "code",
      "source": [
        "name = \"sere n di pity\"\n",
        "print(first_name)\n",
        "print(last_name)\n",
        "print(name.title())\n",
        "\n"
      ],
      "metadata": {
        "colab": {
          "base_uri": "https://localhost:8080/"
        },
        "id": "_hOUIgEGgH6z",
        "outputId": "4423412b-865d-4a1a-e4a6-81e760709475"
      },
      "execution_count": null,
      "outputs": [
        {
          "output_type": "stream",
          "name": "stdout",
          "text": [
            " sere n. \n",
            " di pity \n",
            "Sere N Di Pity\n"
          ]
        }
      ]
    },
    {
      "cell_type": "code",
      "source": [
        "print(\"Python\")"
      ],
      "metadata": {
        "id": "FH5kdhx1jAi6",
        "colab": {
          "base_uri": "https://localhost:8080/"
        },
        "outputId": "7d6c74e1-7bc4-4569-f593-12277635f8f7"
      },
      "execution_count": 1,
      "outputs": [
        {
          "output_type": "stream",
          "name": "stdout",
          "text": [
            "Python\n"
          ]
        }
      ]
    },
    {
      "cell_type": "code",
      "source": [
        "print(\"\\tPython\")"
      ],
      "metadata": {
        "colab": {
          "base_uri": "https://localhost:8080/"
        },
        "id": "iEQEDE07jiY2",
        "outputId": "84f2fb56-fe3a-4d8d-caee-60ddb84481df"
      },
      "execution_count": 2,
      "outputs": [
        {
          "output_type": "stream",
          "name": "stdout",
          "text": [
            "\tPython\n"
          ]
        }
      ]
    },
    {
      "cell_type": "code",
      "source": [
        "print(\"Languages:\\nPython\\nC\\nJavaScript\")"
      ],
      "metadata": {
        "colab": {
          "base_uri": "https://localhost:8080/"
        },
        "id": "GyLRdxxCjrro",
        "outputId": "07b3cf9e-627a-4a4a-93b7-59ea4733999f"
      },
      "execution_count": 3,
      "outputs": [
        {
          "output_type": "stream",
          "name": "stdout",
          "text": [
            "Languages:\n",
            "Python\n",
            "C\n",
            "JavaScript\n"
          ]
        }
      ]
    },
    {
      "cell_type": "code",
      "source": [
        "print(\"Languages:\\n\\tPython\\n\\tC\\n\\tJavaScript\")"
      ],
      "metadata": {
        "colab": {
          "base_uri": "https://localhost:8080/"
        },
        "id": "8nAf3cf-kCCw",
        "outputId": "a7adb4db-81b5-4173-d63d-e2c4e1df688f"
      },
      "execution_count": 5,
      "outputs": [
        {
          "output_type": "stream",
          "name": "stdout",
          "text": [
            "Languages:\n",
            "\tPython\n",
            "\tC\n",
            "\tJavaScript\n"
          ]
        }
      ]
    },
    {
      "cell_type": "code",
      "source": [
        "\n"
      ],
      "metadata": {
        "id": "scqJHV7kkaAD"
      },
      "execution_count": 14,
      "outputs": []
    }
  ]
}