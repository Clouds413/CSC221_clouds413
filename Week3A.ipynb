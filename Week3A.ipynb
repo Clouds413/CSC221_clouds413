{
  "nbformat": 4,
  "nbformat_minor": 0,
  "metadata": {
    "colab": {
      "provenance": [],
      "authorship_tag": "ABX9TyO1z4d2yrThi9tcrB5+t5jL",
      "include_colab_link": true
    },
    "kernelspec": {
      "name": "python3",
      "display_name": "Python 3"
    },
    "language_info": {
      "name": "python"
    }
  },
  "cells": [
    {
      "cell_type": "markdown",
      "metadata": {
        "id": "view-in-github",
        "colab_type": "text"
      },
      "source": [
        "<a href=\"https://colab.research.google.com/github/Clouds413/CSC221_clouds413/blob/main/Week3A.ipynb\" target=\"_parent\"><img src=\"https://colab.research.google.com/assets/colab-badge.svg\" alt=\"Open In Colab\"/></a>"
      ]
    },
    {
      "cell_type": "code",
      "execution_count": null,
      "metadata": {
        "colab": {
          "base_uri": "https://localhost:8080/"
        },
        "id": "wTYsu0E7TCF8",
        "outputId": "facb863e-df84-408f-e2dc-b02d5463c3ef"
      },
      "outputs": [
        {
          "output_type": "stream",
          "name": "stdout",
          "text": [
            "The Zen of Python, by Tim Peters\n",
            "\n",
            "Beautiful is better than ugly.\n",
            "Explicit is better than implicit.\n",
            "Simple is better than complex.\n",
            "Complex is better than complicated.\n",
            "Flat is better than nested.\n",
            "Sparse is better than dense.\n",
            "Readability counts.\n",
            "Special cases aren't special enough to break the rules.\n",
            "Although practicality beats purity.\n",
            "Errors should never pass silently.\n",
            "Unless explicitly silenced.\n",
            "In the face of ambiguity, refuse the temptation to guess.\n",
            "There should be one-- and preferably only one --obvious way to do it.\n",
            "Although that way may not be obvious at first unless you're Dutch.\n",
            "Now is better than never.\n",
            "Although never is often better than *right* now.\n",
            "If the implementation is hard to explain, it's a bad idea.\n",
            "If the implementation is easy to explain, it may be a good idea.\n",
            "Namespaces are one honking great idea -- let's do more of those!\n"
          ]
        }
      ],
      "source": [
        "import this\n"
      ]
    },
    {
      "cell_type": "code",
      "source": [
        "#Chapter 3 - Introducing lists\n",
        "\n",
        "bicycle = ['trek', 'canondale', 'redline', 'specialized']\n",
        "print(bicycle[0])"
      ],
      "metadata": {
        "id": "3Y9NqVeLUWtO",
        "colab": {
          "base_uri": "https://localhost:8080/"
        },
        "outputId": "b4ca7ae4-37f9-4b27-bcb3-d76a4ce99664"
      },
      "execution_count": null,
      "outputs": [
        {
          "output_type": "stream",
          "name": "stdout",
          "text": [
            "trek\n"
          ]
        }
      ]
    },
    {
      "cell_type": "code",
      "source": [
        "bicycle = ['trek', 'canondale', 'redline', 'specialized']\n",
        "print(bicycle[-1].title())"
      ],
      "metadata": {
        "colab": {
          "base_uri": "https://localhost:8080/"
        },
        "id": "5pakczw7zZWN",
        "outputId": "5aff5f8d-c5d3-4307-d537-14900c0e98a6"
      },
      "execution_count": null,
      "outputs": [
        {
          "output_type": "stream",
          "name": "stdout",
          "text": [
            "Specialized\n"
          ]
        }
      ]
    },
    {
      "cell_type": "code",
      "source": [
        "message = f\"My first bicycle was a {bicycle[1].title()}.\"\n",
        "print(message)"
      ],
      "metadata": {
        "colab": {
          "base_uri": "https://localhost:8080/"
        },
        "id": "9l9yT6r_zyKf",
        "outputId": "f128d714-0c6e-4c2e-fba2-2ddc91de5e25"
      },
      "execution_count": null,
      "outputs": [
        {
          "output_type": "stream",
          "name": "stdout",
          "text": [
            "My first bicycle was a Canondale.\n"
          ]
        }
      ]
    },
    {
      "cell_type": "code",
      "source": [
        "#Try it yourself 3 - 1 Names\n",
        "\n",
        "names = ['Ned', 'Judy', 'Armagan', 'Trina', 'Deverie']\n",
        "print(names)"
      ],
      "metadata": {
        "id": "ijMO1LjZ0nX2",
        "colab": {
          "base_uri": "https://localhost:8080/"
        },
        "outputId": "a9343ac7-b91a-4150-cb99-92f28eec403e"
      },
      "execution_count": null,
      "outputs": [
        {
          "output_type": "stream",
          "name": "stdout",
          "text": [
            "['Ned', 'Judy', 'Armagan', 'Trina', 'Deverie']\n"
          ]
        }
      ]
    },
    {
      "cell_type": "code",
      "source": [
        "names = ['Ned', 'Judy', 'Armagan', 'Trina', 'Deverie']\n",
        "\n",
        "print(names[0])\n",
        "print(names[1])\n",
        "print(names[2])\n",
        "print(names[3])\n",
        "print(names[4])"
      ],
      "metadata": {
        "colab": {
          "base_uri": "https://localhost:8080/"
        },
        "id": "utCemBw7oNlA",
        "outputId": "c3358c39-a8c6-4498-b397-5870279ff298"
      },
      "execution_count": null,
      "outputs": [
        {
          "output_type": "stream",
          "name": "stdout",
          "text": [
            "Ned\n",
            "Judy\n",
            "Armagan\n",
            "Trina\n",
            "Deverie\n"
          ]
        }
      ]
    },
    {
      "cell_type": "code",
      "source": [
        "names = ['Ned', 'Judy', 'Armagan', 'Trina', 'Deverie']\n",
        "\n",
        "print(names[0])\n",
        "print(names[1])\n",
        "print(names[2])\n",
        "print(names[-2])\n",
        "print(names[-1])"
      ],
      "metadata": {
        "colab": {
          "base_uri": "https://localhost:8080/"
        },
        "id": "XQFhaR2t3cJr",
        "outputId": "a85790f8-4eb5-49af-e121-7db791cd95c6"
      },
      "execution_count": null,
      "outputs": [
        {
          "output_type": "stream",
          "name": "stdout",
          "text": [
            "Ned\n",
            "Judy\n",
            "Armagan\n",
            "Trina\n",
            "Deverie\n"
          ]
        }
      ]
    },
    {
      "cell_type": "code",
      "source": [
        "#Try it yourself 3 - 2 Greetings\n",
        "\n",
        "names = ['Ned', 'Judy', 'Armagan', 'Trina', 'Deverie']\n",
        "\n",
        "print(f\"Hello, {names[0]}, how are you?\")\n",
        "print(f\"Hello, {names[1]}, how are you?\")\n",
        "print(f\"Hello, {names[2]}, how are you?\")\n",
        "print(f\"Hello, {names[3]}, how are you?\")\n",
        "print(f\"Hello, {names[4]}, how are you?\")\n"
      ],
      "metadata": {
        "colab": {
          "base_uri": "https://localhost:8080/"
        },
        "id": "5APbdZJO3pCt",
        "outputId": "df66dc02-5d88-4dc5-86c4-743fa6f9d125"
      },
      "execution_count": null,
      "outputs": [
        {
          "output_type": "stream",
          "name": "stdout",
          "text": [
            "Hello, Ned, how are you?\n",
            "Hello, Judy, how are you?\n",
            "Hello, Armagan, how are you?\n",
            "Hello, Trina, how are you?\n",
            "Hello, Deverie, how are you?\n"
          ]
        }
      ]
    },
    {
      "cell_type": "code",
      "source": [
        "#Try it yourself 3 - 3 My own list\n",
        "\n",
        "transportation = ['hot air balloon', 'motorcycle', 'horse', 'scuba scooter']\n",
        "print(f\"I would like to ride a {transportation[2]}.\")\n",
        "print(f\"I would like to ride a {transportation[0]}.\")\n",
        "print(f\"I would like to ride a {transportation[-1]}.\")"
      ],
      "metadata": {
        "colab": {
          "base_uri": "https://localhost:8080/"
        },
        "id": "UNO4YepZ4eJv",
        "outputId": "32254ab0-3c5d-46a0-96fd-c3a292ccfc4f"
      },
      "execution_count": null,
      "outputs": [
        {
          "output_type": "stream",
          "name": "stdout",
          "text": [
            "I would like to ride a horse.\n",
            "I would like to ride a hot air balloon.\n",
            "I would like to ride a scuba scooter.\n"
          ]
        }
      ]
    },
    {
      "cell_type": "code",
      "source": [
        "cats = ['siamese', 'manx', 'bobcat']\n",
        "print(cats)\n",
        "cats[0] = 'panther'\n",
        "print(cats)"
      ],
      "metadata": {
        "colab": {
          "base_uri": "https://localhost:8080/"
        },
        "id": "SrzQ3DQp5raF",
        "outputId": "c5068c8d-e02a-4b21-abd6-a8e86d5a6796"
      },
      "execution_count": null,
      "outputs": [
        {
          "output_type": "stream",
          "name": "stdout",
          "text": [
            "['siamese', 'manx', 'bobcat']\n",
            "['panther', 'manx', 'bobcat']\n"
          ]
        }
      ]
    },
    {
      "cell_type": "code",
      "source": [
        "cats = ['siamese', 'manx', 'bobcat']\n",
        "print(cats)\n",
        "cats.append('panther')\n",
        "print(cats)"
      ],
      "metadata": {
        "colab": {
          "base_uri": "https://localhost:8080/"
        },
        "id": "kQ1RTmMJ7xmI",
        "outputId": "ca372447-0b2a-463c-9744-d1acb8639194"
      },
      "execution_count": null,
      "outputs": [
        {
          "output_type": "stream",
          "name": "stdout",
          "text": [
            "['siamese', 'manx', 'bobcat']\n",
            "['siamese', 'manx', 'bobcat', 'panther']\n"
          ]
        }
      ]
    },
    {
      "cell_type": "code",
      "source": [
        "cats = []\n",
        "cats.append('siamese')\n",
        "cats.append('maine coon')\n",
        "cats.append('lynx')\n",
        "cats.append('panther')\n",
        "print(cats)"
      ],
      "metadata": {
        "colab": {
          "base_uri": "https://localhost:8080/"
        },
        "id": "-kzgK8pL8GZD",
        "outputId": "b7721ed3-8190-4515-f1f7-573440057b87"
      },
      "execution_count": null,
      "outputs": [
        {
          "output_type": "stream",
          "name": "stdout",
          "text": [
            "['siamese', 'maine coon', 'lynx', 'panther']\n"
          ]
        }
      ]
    },
    {
      "cell_type": "code",
      "source": [
        "cats = ['siamese', 'manx', 'bobcat']\n",
        "\n",
        "cats.insert(0,'lynx')\n",
        "print(cats)"
      ],
      "metadata": {
        "colab": {
          "base_uri": "https://localhost:8080/"
        },
        "id": "Jw7cL9eU9B4m",
        "outputId": "5b6ee14d-867c-4a95-84de-9a01ae659fad"
      },
      "execution_count": null,
      "outputs": [
        {
          "output_type": "stream",
          "name": "stdout",
          "text": [
            "['lynx', 'siamese', 'manx', 'bobcat']\n"
          ]
        }
      ]
    },
    {
      "cell_type": "code",
      "source": [
        "cats = ['siamese', 'manx', 'bobcat']\n",
        "\n",
        "cats.insert(2,'lynx')\n",
        "print(cats)"
      ],
      "metadata": {
        "colab": {
          "base_uri": "https://localhost:8080/"
        },
        "id": "TDigXtnH97Tl",
        "outputId": "7ab36d5e-c66c-4bb7-93f7-03dd35faf9b1"
      },
      "execution_count": null,
      "outputs": [
        {
          "output_type": "stream",
          "name": "stdout",
          "text": [
            "['siamese', 'manx', 'lynx', 'bobcat']\n"
          ]
        }
      ]
    },
    {
      "cell_type": "code",
      "source": [
        "cats = ['siamese', 'manx', 'bobcat', 'lynx']\n",
        "\n",
        "del cats[2]\n",
        "print(cats)"
      ],
      "metadata": {
        "colab": {
          "base_uri": "https://localhost:8080/"
        },
        "id": "4d-btOUE-AeH",
        "outputId": "9eaa0d21-eb83-4ec0-d76e-aa32fa7fac89"
      },
      "execution_count": null,
      "outputs": [
        {
          "output_type": "stream",
          "name": "stdout",
          "text": [
            "['siamese', 'manx', 'lynx']\n"
          ]
        }
      ]
    },
    {
      "cell_type": "code",
      "source": [
        "cats = ['siamese', 'manx', 'bobcat', 'lynx']\n",
        "\n",
        "del cats[-1]\n",
        "print(cats)"
      ],
      "metadata": {
        "colab": {
          "base_uri": "https://localhost:8080/"
        },
        "id": "xxEQmGxD-toa",
        "outputId": "6ffcf7f5-9126-4ef2-b4c5-2a12142dafab"
      },
      "execution_count": null,
      "outputs": [
        {
          "output_type": "stream",
          "name": "stdout",
          "text": [
            "['siamese', 'manx', 'bobcat']\n"
          ]
        }
      ]
    },
    {
      "cell_type": "code",
      "source": [
        "trees = ['maple', 'oak', 'elm', 'apple']\n",
        "\n",
        "print(trees)\n",
        "popped_trees = trees.pop(0)\n",
        "\n",
        "print(popped_trees)\n",
        "print(trees)"
      ],
      "metadata": {
        "colab": {
          "base_uri": "https://localhost:8080/"
        },
        "id": "aQ1RL2ad-5Gz",
        "outputId": "f47ff6cc-e3d0-44c7-8eeb-c6524e7dd334"
      },
      "execution_count": null,
      "outputs": [
        {
          "output_type": "stream",
          "name": "stdout",
          "text": [
            "['maple', 'oak', 'elm', 'apple']\n",
            "maple\n",
            "['oak', 'elm', 'apple']\n"
          ]
        }
      ]
    },
    {
      "cell_type": "code",
      "source": [
        "trees = ['maple', 'oak', 'elm', 'apple']\n",
        "\n",
        "last_tree = trees.pop()\n",
        "\n",
        "print(f\"The last tree I climbed was an {last_tree.title()}.\")"
      ],
      "metadata": {
        "colab": {
          "base_uri": "https://localhost:8080/"
        },
        "id": "erweXkxqA4df",
        "outputId": "de698c2b-fb28-4b18-9126-3474b04bf790"
      },
      "execution_count": null,
      "outputs": [
        {
          "output_type": "stream",
          "name": "stdout",
          "text": [
            "The last tree I climbed was an Apple.\n"
          ]
        }
      ]
    },
    {
      "cell_type": "code",
      "source": [
        "trees = ['maple', 'oak', 'elm', 'apple']\n",
        "\n",
        "first_tree = trees.pop(1)\n",
        "\n",
        "print(f\"The first tree I climbed was an {first_tree.title()}.\")"
      ],
      "metadata": {
        "colab": {
          "base_uri": "https://localhost:8080/"
        },
        "id": "PwmGpRTfARoi",
        "outputId": "7d787881-74b7-487d-9ea3-5599fd6fcbc0"
      },
      "execution_count": null,
      "outputs": [
        {
          "output_type": "stream",
          "name": "stdout",
          "text": [
            "The first tree I climbed was an Oak.\n"
          ]
        }
      ]
    },
    {
      "cell_type": "code",
      "source": [
        "trees = ['maple', 'oak', 'elm', 'apple']\n",
        "\n",
        "print(trees)\n",
        "\n",
        "trees.remove('maple')\n",
        "print(trees)"
      ],
      "metadata": {
        "colab": {
          "base_uri": "https://localhost:8080/"
        },
        "id": "lCsKNehbD-17",
        "outputId": "36b613c7-10e1-4891-d951-77642e8d96ff"
      },
      "execution_count": null,
      "outputs": [
        {
          "output_type": "stream",
          "name": "stdout",
          "text": [
            "['maple', 'oak', 'elm', 'apple']\n",
            "['oak', 'elm', 'apple']\n"
          ]
        }
      ]
    },
    {
      "cell_type": "code",
      "source": [
        "trees = ['maple', 'oak', 'elm', 'apple']\n",
        "\n",
        "too_tall = 'elm'\n",
        "\n",
        "trees.remove(too_tall)\n",
        "\n",
        "print(f\"The {too_tall.title()} is too tall for me to climb.\")"
      ],
      "metadata": {
        "colab": {
          "base_uri": "https://localhost:8080/"
        },
        "id": "bxRzeLHvEqrh",
        "outputId": "3b821369-29e2-4e6b-e93f-b390636e40b0"
      },
      "execution_count": null,
      "outputs": [
        {
          "output_type": "stream",
          "name": "stdout",
          "text": [
            "The Elm is too tall for me to climb.\n"
          ]
        }
      ]
    },
    {
      "cell_type": "code",
      "source": [
        "#Try it yourself 3 - 4 Guest List\n",
        "guest_list = ['Amelia', 'Robert', 'Anne']\n",
        "\n",
        "print(guest_list)\n",
        "print(f\"Hello, {guest_list[0]}, I would enjoy your company for dinner.\")\n",
        "print(f\"Hello, {guest_list[1]}, I would enjoy your company for dinner.\")\n",
        "print(f\"Hello, {guest_list[2]}, I would enjoy your company for dinner.\")\n",
        "\n",
        "#3 - 5 changing guest list\n",
        "\n",
        "print(f\"{guest_list[2]}, unfortunately, cannot make it.\")\n",
        "\n",
        "guest_list[2] = 'Ben'\n",
        "\n",
        "print(guest_list)\n",
        "\n",
        "print(f\"Hello, {guest_list[0]}, I would enjoy your company for dinner.\")\n",
        "print(f\"Hello, {guest_list[1]}, I would enjoy your company for dinner.\")\n",
        "print(f\"Hello, {guest_list[2]}, I would enjoy your company for dinner.\")\n",
        "\n",
        "\n",
        "#3 - 6 more guests\n",
        "print(\"We found a larger table for our dinner.\")\n",
        "\n",
        "guest_list.insert(0, 'Oscar')\n",
        "guest_list.insert(2, 'Mary')\n",
        "guest_list.append('Jules')\n",
        "\n",
        "print(guest_list)\n",
        "\n",
        "print(f\"Hello, {guest_list[0]}, I would enjoy your company for dinner.\")\n",
        "print(f\"Hello, {guest_list[1]}, I would enjoy your company for dinner.\")\n",
        "print(f\"Hello, {guest_list[2]}, I would enjoy your company for dinner.\")\n",
        "print(f\"Hello, {guest_list[3]}, I would enjoy your company for dinner.\")\n",
        "print(f\"Hello, {guest_list[4]}, I would enjoy your company for dinner.\")\n",
        "print(f\"Hello, {guest_list[5]}, I would enjoy your company for dinner.\")\n",
        "\n",
        "\n",
        "#3 - 7 Shrinking Guest List\n",
        "\n",
        "print(\"Sadly, the situation has changed again & I only have space for two.\")\n",
        "\n",
        "uninvited_guest = guest_list.pop()\n",
        "print(f\"Hello, {uninvited_guest}, unfortunately we have to uninvite you.\")\n",
        "uninvited_guest = guest_list.pop()\n",
        "print(f\"Hello, {uninvited_guest}, unfortunately we have to uninvite you.\")\n",
        "uninvited_guest = guest_list.pop()\n",
        "print(f\"Hello, {uninvited_guest}, unfortunately we have to uninvite you.\")\n",
        "uninvited_guest = guest_list.pop()\n",
        "print(f\"Hello, {uninvited_guest}, unfortunately we have to uninvite you.\")\n",
        "\n",
        "print(f\"Hello, {guest_list[0]}, I would enjoy your company for dinner.\")\n",
        "print(f\"Hello, {guest_list[1]}, I would enjoy your company for dinner.\")\n",
        "\n",
        "\n",
        "del guest_list[1]\n",
        "del guest_list[0]\n",
        "\n",
        "print(guest_list)\n"
      ],
      "metadata": {
        "colab": {
          "base_uri": "https://localhost:8080/"
        },
        "id": "gfvdB5kAFkWc",
        "outputId": "83e9532f-82dd-4b1f-ac3b-b35954f847af"
      },
      "execution_count": null,
      "outputs": [
        {
          "output_type": "stream",
          "name": "stdout",
          "text": [
            "['Amelia', 'Robert', 'Anne']\n",
            "Hello, Amelia, I would enjoy your company for dinner.\n",
            "Hello, Robert, I would enjoy your company for dinner.\n",
            "Hello, Anne, I would enjoy your company for dinner.\n",
            "Anne, unfortunately, cannot make it.\n",
            "['Amelia', 'Robert', 'Ben']\n",
            "Hello, Amelia, I would enjoy your company for dinner.\n",
            "Hello, Robert, I would enjoy your company for dinner.\n",
            "Hello, Ben, I would enjoy your company for dinner.\n",
            "We found a larger table for our dinner.\n",
            "['Oscar', 'Amelia', 'Mary', 'Robert', 'Ben', 'Jules']\n",
            "Hello, Oscar, I would enjoy your company for dinner.\n",
            "Hello, Amelia, I would enjoy your company for dinner.\n",
            "Hello, Mary, I would enjoy your company for dinner.\n",
            "Hello, Robert, I would enjoy your company for dinner.\n",
            "Hello, Ben, I would enjoy your company for dinner.\n",
            "Hello, Jules, I would enjoy your company for dinner.\n",
            "Sadly, the situation has changed again & I only have space for two.\n",
            "Hello, Jules, unfortunately we have to uninvite you.\n",
            "Hello, Ben, unfortunately we have to uninvite you.\n",
            "Hello, Robert, unfortunately we have to uninvite you.\n",
            "Hello, Mary, unfortunately we have to uninvite you.\n",
            "Hello, Oscar, I would enjoy your company for dinner.\n",
            "Hello, Amelia, I would enjoy your company for dinner.\n",
            "[]\n"
          ]
        }
      ]
    },
    {
      "cell_type": "code",
      "source": [
        "#3 - 8 Seeing the World\n",
        "places = ['Maldives' , 'Crete' , 'Alaska', 'St. Petersburg', 'Iceland' ]\n",
        "print(places)\n",
        "\n",
        "print(sorted(places))\n",
        "print(places)\n",
        "\n",
        "places.reverse()\n",
        "print(places)\n",
        "\n",
        "places.reverse()\n",
        "print(places)\n",
        "\n",
        "print(len(places))\n",
        "\n",
        "places.sort()\n",
        "print(places)\n",
        "\n",
        "places.sort(reverse=True)\n",
        "print(places)\n",
        "\n"
      ],
      "metadata": {
        "id": "hcqVd567agwg",
        "colab": {
          "base_uri": "https://localhost:8080/"
        },
        "outputId": "ffe4aaa1-6335-497b-92a2-1882278b415f"
      },
      "execution_count": 34,
      "outputs": [
        {
          "output_type": "stream",
          "name": "stdout",
          "text": [
            "['Maldives', 'Crete', 'Alaska', 'St. Petersburg', 'Iceland']\n",
            "['Alaska', 'Crete', 'Iceland', 'Maldives', 'St. Petersburg']\n",
            "['Maldives', 'Crete', 'Alaska', 'St. Petersburg', 'Iceland']\n",
            "['Iceland', 'St. Petersburg', 'Alaska', 'Crete', 'Maldives']\n",
            "['Maldives', 'Crete', 'Alaska', 'St. Petersburg', 'Iceland']\n",
            "5\n",
            "['Alaska', 'Crete', 'Iceland', 'Maldives', 'St. Petersburg']\n",
            "['St. Petersburg', 'Maldives', 'Iceland', 'Crete', 'Alaska']\n"
          ]
        }
      ]
    },
    {
      "cell_type": "code",
      "source": [
        "#3 - 9 Dinner Guests\n",
        "guest_list = ['Amelia', 'Robert', 'Anne']\n",
        "print(len(guest_list))\n",
        "print(f\"I am having a dinner party with {len(guest_list)} very cool people.\")\n",
        "\n"
      ],
      "metadata": {
        "id": "Get0tAXragRg",
        "colab": {
          "base_uri": "https://localhost:8080/"
        },
        "outputId": "56b41150-1e1a-4be6-dd7c-3150bd6c73e6"
      },
      "execution_count": 36,
      "outputs": [
        {
          "output_type": "stream",
          "name": "stdout",
          "text": [
            "3\n",
            "I am having a dinner party with 3 very cool people.\n"
          ]
        }
      ]
    },
    {
      "cell_type": "code",
      "source": [
        "#3 - 10 Every Function\n",
        "\n",
        "items = ['frying pan' , 'olive oil' , 'pepper' , 'bacon']\n",
        "print(items)\n",
        "\n",
        "items[-1] = 'eggs'\n",
        "print(items)\n",
        "\n",
        "items.append('butter')\n",
        "print(items)\n",
        "\n",
        "items.insert(3, 'cheese')\n",
        "print(items)\n",
        "\n",
        "del items[2]\n",
        "print(items)\n",
        "\n",
        "items.remove('olive oil')\n",
        "print(items)\n",
        "\n",
        "items.reverse()\n",
        "print(items)\n",
        "\n",
        "print(len(items))"
      ],
      "metadata": {
        "colab": {
          "base_uri": "https://localhost:8080/"
        },
        "id": "A-LDH1eVbqup",
        "outputId": "e7a5d207-63d8-4556-e0bf-c77bf6fb70ab"
      },
      "execution_count": 40,
      "outputs": [
        {
          "output_type": "stream",
          "name": "stdout",
          "text": [
            "['frying pan', 'olive oil', 'pepper', 'bacon']\n",
            "['frying pan', 'olive oil', 'pepper', 'eggs']\n",
            "['frying pan', 'olive oil', 'pepper', 'eggs', 'butter']\n",
            "['frying pan', 'olive oil', 'pepper', 'cheese', 'eggs', 'butter']\n",
            "['frying pan', 'olive oil', 'cheese', 'eggs', 'butter']\n",
            "['frying pan', 'cheese', 'eggs', 'butter']\n",
            "['butter', 'eggs', 'cheese', 'frying pan']\n",
            "4\n"
          ]
        }
      ]
    },
    {
      "cell_type": "code",
      "source": [],
      "metadata": {
        "id": "GUjyIXTZed5Y"
      },
      "execution_count": null,
      "outputs": []
    }
  ]
}